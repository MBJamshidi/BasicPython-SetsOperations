{
 "cells": [
  {
   "cell_type": "code",
   "execution_count": 11,
   "metadata": {},
   "outputs": [
    {
     "name": "stdout",
     "output_type": "stream",
     "text": [
      "{12, 13, 15, 'tit', 'reza'}\n",
      "{12, 13, 14, 15, 'tit', 'reza'}\n",
      "{12, 13, 14, 15, 'tit', 'reza', 'ali'}\n"
     ]
    }
   ],
   "source": [
    "# Operations in sets\n",
    "\n",
    "#In this tutorial, I want to explain the operations in sets with a couple of examples\n",
    "#First of all you should know, there is no order in set elements\n",
    "#Second of all, repetitive items will be removed in sets\n",
    "\n",
    "#With this introduction let's learning set's operations in Python\n",
    "\n",
    "# add method\n",
    "#Assume there is bmj1 as a set which has been filled as follows:\n",
    "bmj1={12, 13, \"tit\", \"reza\", 15}\n",
    "print(bmj1)\n",
    "\n",
    "# \"add method\" add a new element to a set \n",
    "\n",
    "bmj1.add(14)\n",
    "print (bmj1)\n",
    "\n",
    "bmj1.add(\"ali\")\n",
    "print (bmj1)\n"
   ]
  },
  {
   "cell_type": "code",
   "execution_count": 12,
   "metadata": {},
   "outputs": [
    {
     "name": "stdout",
     "output_type": "stream",
     "text": [
      "{12, 13, 15, 'tit', 'reza'}\n",
      "{12, 13, 15, 'tit', 'reza'}\n"
     ]
    }
   ],
   "source": [
    "# You are nto allowed to add two or more items with add method simultaneously\n",
    "#If you add a element twice the set takes no notice of the repetitive new \n",
    "bmj1={12, 13, \"tit\", \"reza\", 15}\n",
    "bmj1.add(\"tit\")\n",
    "print(bmj1)\n",
    "\n",
    "bmj1={12, 13, \"tit\", \"reza\", 15}\n",
    "bmj1.add(13)\n",
    "print(bmj1)\n"
   ]
  },
  {
   "cell_type": "code",
   "execution_count": 13,
   "metadata": {},
   "outputs": [
    {
     "name": "stdout",
     "output_type": "stream",
     "text": [
      "{'ANN', 42.3, 43.67, 'Python'}\n",
      "{12, 13, 15, 'reza'}\n",
      "{42.3, 43.67}\n"
     ]
    }
   ],
   "source": [
    "#We can remove the items with \"remove method\"\n",
    "var1={42.3, 43.67, \"Dev\", \"Python\", \"ANN\"}\n",
    "var1.remove(\"Dev\")\n",
    "print(var1)\n",
    "\n",
    "bmj1={12, 13, \"tit\", \"reza\", 15}\n",
    "bmj1.remove(\"tit\")\n",
    "print(bmj1)\n",
    "\n",
    "var1={42.3, 43.67, \"Dev\", \"Python\", \"ANN\"}\n",
    "var1.remove(\"Dev\")\n",
    "var1.remove(\"Python\")\n",
    "var1.remove(\"ANN\")\n",
    "print(var1)\n"
   ]
  },
  {
   "cell_type": "code",
   "execution_count": 14,
   "metadata": {},
   "outputs": [
    {
     "name": "stdout",
     "output_type": "stream",
     "text": [
      "False\n",
      "True\n",
      "False\n",
      "True\n"
     ]
    }
   ],
   "source": [
    "#We can verify an item is in the set or not using \"in method\" as following form\n",
    "mo={\"xc\", \"gh\",\"es\", \"fr\", \"wa\"}\n",
    "r= \"ds\" in mo\n",
    "print(bool(r))\n",
    "\n",
    "r=\"gh\" in mo\n",
    "print(bool(r))\n",
    "\n",
    "r= \"xs\" in mo\n",
    "print(bool(r))\n",
    "           \n",
    "r=\"xc\" in mo\n",
    "print(bool(r))"
   ]
  },
  {
   "cell_type": "code",
   "execution_count": 15,
   "metadata": {},
   "outputs": [
    {
     "name": "stdout",
     "output_type": "stream",
     "text": [
      "{1, 3, 4, 'bm', 54, 23, 'as'}\n",
      "{'rty', 12, 'er', 'bm', 'ali', 23}\n",
      "{'bm', 23}\n",
      "{1, 3, 4, 'bm', 54, 23, 'as'}\n",
      "{'rty', 12, 'er', 'bm', 'ali', 23}\n",
      "{'bm', 23}\n",
      "Union Set1 and Set2:  {1, 3, 4, 'rty', 12, 'er', 'bm', 'ali', 54, 23, 'as'}\n",
      "Union Set1 and Set2:  {'rty', 12, 'er', 'bm', 'ali', 23}\n",
      "Union Set1 and Set2:  {1, 3, 4, 12, 'er', 'bm', 54, 23, 'as'}\n",
      "Set3 is a subset of Set2:  True\n",
      "Set3 is a subset of Set2:  False\n",
      "Set3 is a subset of Set2:  False\n",
      "Difference Set1 than Set2:  {1, 3, 4, 54, 'as'}\n",
      "Difference Set2 than Set1:  {'ali', 12, 'rty', 'er'}\n",
      "Difference Set1 than Set3:  {1, 3, 4, 54, 23, 'as'}\n"
     ]
    }
   ],
   "source": [
    "# Mathematical operation in sets\n",
    "#intersection of two sets make a set containing the elements of both sets\n",
    "Set1={1,\"bm\", 3, 4, 23, 54, \"as\"}\n",
    "Set2={12, \"rty\",\"ali\", \"bm\", 23, \"er\"}\n",
    "Set3=Set1.intersection(Set2)\n",
    "\n",
    "print(Set1)\n",
    "print(Set2)\n",
    "print(Set3)\n",
    "\n",
    "#Overlapping in sets can be computed using \"&\" \n",
    "#In Python, we just place \"ampersand\"= sign \"&\" between two sets to calculate their overlaps\n",
    "#Therefore, both ampersand & and \"intersection method\" are same\n",
    "Set1={1,\"bm\", 3, 4, 23, 54, \"as\"}\n",
    "Set2={12, \"rty\",\"ali\", \"bm\", 23, \"er\"}\n",
    "Set3=Set1 & Set2\n",
    "\n",
    "print(Set1)\n",
    "print(Set2)\n",
    "print(Set3)\n",
    "\n",
    "#Union of set\n",
    "#Global sets\n",
    "#To calculate union of set, we can use \"union method\" as follows\n",
    "\n",
    "Set1={1,\"bm\", 3, 4, 23, 54, \"as\"}\n",
    "Set2={12, \"rty\",\"ali\", \"bm\", 23, \"er\"}\n",
    "Set3={\"bm\", \"er\", 12}\n",
    "\n",
    "U1=Set1.union(Set2)\n",
    "U2=Set2.union(Set3)\n",
    "U3=Set1.union(Set3)\n",
    "\n",
    "print(\"Union Set1 and Set2: \", U1)\n",
    "print(\"Union Set1 and Set2: \", U2)\n",
    "print(\"Union Set1 and Set2: \", U3)\n",
    "\n",
    "\n",
    "#Subset of set\n",
    "#Python allows you to check whether a set is a subset for another set or not\n",
    "#To check subset you just use \"issubset method\" and get results as \"True\" or \"False\"\n",
    "Set1={1,\"bm\", 3, 4, 23, 54, \"as\"}\n",
    "Set2={12, \"rty\",\"ali\", \"bm\", 23, \"er\"}\n",
    "Set3={\"bm\", \"er\", 12}\n",
    "\n",
    "r1=Set3.issubset(Set2)\n",
    "r2=Set2.issubset(Set3)\n",
    "r3=Set1.issubset(Set2)\n",
    "\n",
    "print(\"Set3 is a subset of Set2: \",bool(r1))\n",
    "print(\"Set3 is a subset of Set2: \",bool(r2))\n",
    "print(\"Set3 is a subset of Set2: \",bool(r3))\n",
    "\n",
    "# Find the difference in set1 but not set2\n",
    "\n",
    "Set1={1,\"bm\", 3, 4, 23, 54, \"as\"}\n",
    "Set2={12, \"rty\",\"ali\", \"bm\", 23, \"er\"}\n",
    "Set3={\"bm\", \"er\", 12}\n",
    "\n",
    "Setd1=Set1.difference(Set2)\n",
    "Setd2=Set2.difference(Set1)\n",
    "Setd3=Set1.difference(Set3)\n",
    "\n",
    "print(\"Difference Set1 than Set2: \", Setd1)\n",
    "print(\"Difference Set2 than Set1: \", Setd2)\n",
    "print(\"Difference Set1 than Set3: \", Setd3)"
   ]
  },
  {
   "cell_type": "code",
   "execution_count": null,
   "metadata": {},
   "outputs": [],
   "source": []
  }
 ],
 "metadata": {
  "kernelspec": {
   "display_name": "Python 3",
   "language": "python",
   "name": "python3"
  },
  "language_info": {
   "codemirror_mode": {
    "name": "ipython",
    "version": 3
   },
   "file_extension": ".py",
   "mimetype": "text/x-python",
   "name": "python",
   "nbconvert_exporter": "python",
   "pygments_lexer": "ipython3",
   "version": "3.7.6"
  }
 },
 "nbformat": 4,
 "nbformat_minor": 4
}
